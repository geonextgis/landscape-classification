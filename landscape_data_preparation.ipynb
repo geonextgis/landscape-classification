{
 "cells": [
  {
   "cell_type": "markdown",
   "metadata": {},
   "source": [
    "## **Landscape Data Preparation**"
   ]
  },
  {
   "cell_type": "markdown",
   "metadata": {},
   "source": [
    "### **Import Dependencies**"
   ]
  },
  {
   "cell_type": "code",
   "execution_count": 1,
   "metadata": {},
   "outputs": [
    {
     "name": "stdout",
     "output_type": "stream",
     "text": [
      "'datasets' folder is already existed.\n"
     ]
    }
   ],
   "source": [
    "import numpy as np\n",
    "import pandas as pd\n",
    "import matplotlib.pyplot as plt\n",
    "import seaborn as sns\n",
    "import ee\n",
    "import geemap\n",
    "from tqdm.auto import tqdm\n",
    "import os\n",
    "\n",
    "import warnings\n",
    "warnings.filterwarnings('ignore')\n",
    "\n",
    "# create necessary folders\n",
    "if os.path.exists('datasets'):\n",
    "    print(\"'datasets' folder is already existed.\")\n",
    "else:\n",
    "    os.makedirs('datasets')\n",
    "    print(\"'datasets' folder has been successfully created.\")"
   ]
  },
  {
   "cell_type": "markdown",
   "metadata": {},
   "source": [
    "### **Initialize a Map Object**"
   ]
  },
  {
   "cell_type": "code",
   "execution_count": 59,
   "metadata": {},
   "outputs": [
    {
     "data": {
      "text/html": [
       "\n",
       "            <style>\n",
       "                .geemap-dark {\n",
       "                    --jp-widgets-color: white;\n",
       "                    --jp-widgets-label-color: white;\n",
       "                    --jp-ui-font-color1: white;\n",
       "                    --jp-layout-color2: #454545;\n",
       "                    background-color: #383838;\n",
       "                }\n",
       "\n",
       "                .geemap-dark .jupyter-button {\n",
       "                    --jp-layout-color3: #383838;\n",
       "                }\n",
       "\n",
       "                .geemap-colab {\n",
       "                    background-color: var(--colab-primary-surface-color, white);\n",
       "                }\n",
       "\n",
       "                .geemap-colab .jupyter-button {\n",
       "                    --jp-layout-color3: var(--colab-primary-surface-color, white);\n",
       "                }\n",
       "            </style>\n",
       "            "
      ],
      "text/plain": [
       "<IPython.core.display.HTML object>"
      ]
     },
     "metadata": {},
     "output_type": "display_data"
    },
    {
     "data": {
      "application/vnd.jupyter.widget-view+json": {
       "model_id": "ecf2200aa0644c2aa4c629c3e7a02aee",
       "version_major": 2,
       "version_minor": 0
      },
      "text/plain": [
       "Map(center=[0, 0], controls=(WidgetControl(options=['position', 'transparent_bg'], widget=SearchDataGUI(childr…"
      ]
     },
     "execution_count": 59,
     "metadata": {},
     "output_type": "execute_result"
    }
   ],
   "source": [
    "ee.Authenticate()\n",
    "ee.Initialize(opt_url=\"https://earthengine-highvolume.googleapis.com\")\n",
    "\n",
    "Map = geemap.Map(basemap=\"Esri.WorldImagery\")\n",
    "Map"
   ]
  },
  {
   "cell_type": "markdown",
   "metadata": {},
   "source": [
    "### **Import World Administrative Boundary Layer**"
   ]
  },
  {
   "cell_type": "code",
   "execution_count": 60,
   "metadata": {},
   "outputs": [
    {
     "data": {
      "text/html": [
       "\n",
       "            <style>\n",
       "                .geemap-dark {\n",
       "                    --jp-widgets-color: white;\n",
       "                    --jp-widgets-label-color: white;\n",
       "                    --jp-ui-font-color1: white;\n",
       "                    --jp-layout-color2: #454545;\n",
       "                    background-color: #383838;\n",
       "                }\n",
       "\n",
       "                .geemap-dark .jupyter-button {\n",
       "                    --jp-layout-color3: #383838;\n",
       "                }\n",
       "\n",
       "                .geemap-colab {\n",
       "                    background-color: var(--colab-primary-surface-color, white);\n",
       "                }\n",
       "\n",
       "                .geemap-colab .jupyter-button {\n",
       "                    --jp-layout-color3: var(--colab-primary-surface-color, white);\n",
       "                }\n",
       "            </style>\n",
       "            "
      ],
      "text/plain": [
       "<IPython.core.display.HTML object>"
      ]
     },
     "metadata": {},
     "output_type": "display_data"
    }
   ],
   "source": [
    "# Import World Administrative Layer\n",
    "world = ee.FeatureCollection('projects/ee-geonextgis/assets/world_administrative_boundaries')\n",
    "\n",
    "# Filter the countries belonging to Europe\n",
    "europe = world.filter(ee.Filter.eq('continent', 'Europe'))\n",
    "europe_country_names = europe.aggregate_array('name').getInfo()\n",
    "\n",
    "# Define the countries to remove\n",
    "countries_to_remove = {'Russian Federation', 'Belarus', 'Ukraine', 'Moldova, Republic of', 'Svalbard and Jan Mayen Islands'}\n",
    "europe_country_names = list(set(europe_country_names).difference(countries_to_remove))\n",
    "europe_country_names.append('Turkey')\n",
    "europe = world.filter(ee.Filter.inList('name', europe_country_names))\n",
    "\n",
    "style = {'fillColor': '00000000', 'color': 'red', 'width': 1}\n",
    "Map.addLayer(europe.style(**style), {}, 'Europe')"
   ]
  },
  {
   "cell_type": "markdown",
   "metadata": {},
   "source": [
    "### **Calculate the Area and Number of Samples per Country**"
   ]
  },
  {
   "cell_type": "code",
   "execution_count": 61,
   "metadata": {},
   "outputs": [
    {
     "data": {
      "text/html": [
       "\n",
       "            <style>\n",
       "                .geemap-dark {\n",
       "                    --jp-widgets-color: white;\n",
       "                    --jp-widgets-label-color: white;\n",
       "                    --jp-ui-font-color1: white;\n",
       "                    --jp-layout-color2: #454545;\n",
       "                    background-color: #383838;\n",
       "                }\n",
       "\n",
       "                .geemap-dark .jupyter-button {\n",
       "                    --jp-layout-color3: #383838;\n",
       "                }\n",
       "\n",
       "                .geemap-colab {\n",
       "                    background-color: var(--colab-primary-surface-color, white);\n",
       "                }\n",
       "\n",
       "                .geemap-colab .jupyter-button {\n",
       "                    --jp-layout-color3: var(--colab-primary-surface-color, white);\n",
       "                }\n",
       "            </style>\n",
       "            "
      ],
      "text/plain": [
       "<IPython.core.display.HTML object>"
      ]
     },
     "metadata": {},
     "output_type": "display_data"
    },
    {
     "name": "stdout",
     "output_type": "stream",
     "text": [
      "(41, 4)\n"
     ]
    },
    {
     "data": {
      "text/html": [
       "<div>\n",
       "<style scoped>\n",
       "    .dataframe tbody tr th:only-of-type {\n",
       "        vertical-align: middle;\n",
       "    }\n",
       "\n",
       "    .dataframe tbody tr th {\n",
       "        vertical-align: top;\n",
       "    }\n",
       "\n",
       "    .dataframe thead th {\n",
       "        text-align: right;\n",
       "    }\n",
       "</style>\n",
       "<table border=\"1\" class=\"dataframe\">\n",
       "  <thead>\n",
       "    <tr style=\"text-align: right;\">\n",
       "      <th></th>\n",
       "      <th>country</th>\n",
       "      <th>area</th>\n",
       "      <th>area_proportion</th>\n",
       "      <th>n_of_smaples</th>\n",
       "    </tr>\n",
       "  </thead>\n",
       "  <tbody>\n",
       "    <tr>\n",
       "      <th>0</th>\n",
       "      <td>Turkey</td>\n",
       "      <td>779333</td>\n",
       "      <td>0.1345</td>\n",
       "      <td>13450</td>\n",
       "    </tr>\n",
       "    <tr>\n",
       "      <th>32</th>\n",
       "      <td>France</td>\n",
       "      <td>546646</td>\n",
       "      <td>0.0943</td>\n",
       "      <td>9430</td>\n",
       "    </tr>\n",
       "    <tr>\n",
       "      <th>30</th>\n",
       "      <td>Spain</td>\n",
       "      <td>505656</td>\n",
       "      <td>0.0873</td>\n",
       "      <td>8730</td>\n",
       "    </tr>\n",
       "    <tr>\n",
       "      <th>17</th>\n",
       "      <td>Sweden</td>\n",
       "      <td>443345</td>\n",
       "      <td>0.0765</td>\n",
       "      <td>7650</td>\n",
       "    </tr>\n",
       "    <tr>\n",
       "      <th>38</th>\n",
       "      <td>Germany</td>\n",
       "      <td>355924</td>\n",
       "      <td>0.0614</td>\n",
       "      <td>6140</td>\n",
       "    </tr>\n",
       "  </tbody>\n",
       "</table>\n",
       "</div>"
      ],
      "text/plain": [
       "    country    area  area_proportion  n_of_smaples\n",
       "0    Turkey  779333           0.1345         13450\n",
       "32   France  546646           0.0943          9430\n",
       "30    Spain  505656           0.0873          8730\n",
       "17   Sweden  443345           0.0765          7650\n",
       "38  Germany  355924           0.0614          6140"
      ]
     },
     "execution_count": 61,
     "metadata": {},
     "output_type": "execute_result"
    }
   ],
   "source": [
    "# Calculate the area for each country\n",
    "area = europe.map(lambda f: ee.Feature(None, {'country': f.get('name'), 'area': f.area()}))\n",
    "area = geemap.ee_to_df(area)\n",
    "area['area'] = (area['area'] // 1000000).astype('int')\n",
    "area = area[['country', 'area']]\n",
    "\n",
    "# Calculate the area proportion\n",
    "area['area_proportion'] = ((area['area'] / area['area'].sum())).round(4)\n",
    "\n",
    "# Calculate the number of samples per country\n",
    "total_n_samples = 1e5\n",
    "area['n_of_smaples'] = (area['area_proportion'] * total_n_samples).astype('int')\n",
    "\n",
    "# Drop the columns where number of samples is 0\n",
    "area = area[area['n_of_smaples']>0]\n",
    "area.sort_values(by='n_of_smaples', ascending=False, inplace=True)\n",
    "\n",
    "print(area.shape)\n",
    "area.head()"
   ]
  },
  {
   "cell_type": "markdown",
   "metadata": {},
   "source": [
    "### **Import the CORINE LULC Product for 2018**"
   ]
  },
  {
   "cell_type": "code",
   "execution_count": 62,
   "metadata": {},
   "outputs": [
    {
     "data": {
      "text/html": [
       "\n",
       "            <style>\n",
       "                .geemap-dark {\n",
       "                    --jp-widgets-color: white;\n",
       "                    --jp-widgets-label-color: white;\n",
       "                    --jp-ui-font-color1: white;\n",
       "                    --jp-layout-color2: #454545;\n",
       "                    background-color: #383838;\n",
       "                }\n",
       "\n",
       "                .geemap-dark .jupyter-button {\n",
       "                    --jp-layout-color3: #383838;\n",
       "                }\n",
       "\n",
       "                .geemap-colab {\n",
       "                    background-color: var(--colab-primary-surface-color, white);\n",
       "                }\n",
       "\n",
       "                .geemap-colab .jupyter-button {\n",
       "                    --jp-layout-color3: var(--colab-primary-surface-color, white);\n",
       "                }\n",
       "            </style>\n",
       "            "
      ],
      "text/plain": [
       "<IPython.core.display.HTML object>"
      ]
     },
     "metadata": {},
     "output_type": "display_data"
    }
   ],
   "source": [
    "# Import the CORINE LULC 2018\n",
    "corine_2018 = ee.Image('COPERNICUS/CORINE/V20/100m/2018')\\\n",
    "                .select('landcover')\n",
    "Map.setCenter(16.436, 39.825, 6);\n",
    "Map.addLayer(corine_2018, {}, 'CORINE Land Cover')"
   ]
  },
  {
   "cell_type": "code",
   "execution_count": 63,
   "metadata": {},
   "outputs": [
    {
     "data": {
      "text/html": [
       "\n",
       "            <style>\n",
       "                .geemap-dark {\n",
       "                    --jp-widgets-color: white;\n",
       "                    --jp-widgets-label-color: white;\n",
       "                    --jp-ui-font-color1: white;\n",
       "                    --jp-layout-color2: #454545;\n",
       "                    background-color: #383838;\n",
       "                }\n",
       "\n",
       "                .geemap-dark .jupyter-button {\n",
       "                    --jp-layout-color3: #383838;\n",
       "                }\n",
       "\n",
       "                .geemap-colab {\n",
       "                    background-color: var(--colab-primary-surface-color, white);\n",
       "                }\n",
       "\n",
       "                .geemap-colab .jupyter-button {\n",
       "                    --jp-layout-color3: var(--colab-primary-surface-color, white);\n",
       "                }\n",
       "            </style>\n",
       "            "
      ],
      "text/plain": [
       "<IPython.core.display.HTML object>"
      ]
     },
     "metadata": {},
     "output_type": "display_data"
    },
    {
     "name": "stdout",
     "output_type": "stream",
     "text": [
      "Number of classes in the CORINE LULC: 44\n"
     ]
    }
   ],
   "source": [
    "# Extract all the class values from the image\n",
    "class_values = corine_2018.get('landcover_class_values').getInfo()\n",
    "class_palette = corine_2018.get('landcover_class_palette').getInfo()\n",
    "\n",
    "print('Number of classes in the CORINE LULC:', len(class_values))"
   ]
  },
  {
   "cell_type": "markdown",
   "metadata": {},
   "source": [
    "### **Generate Equal Number of Samples from Each Class**"
   ]
  },
  {
   "cell_type": "code",
   "execution_count": 157,
   "metadata": {},
   "outputs": [
    {
     "data": {
      "text/html": [
       "\n",
       "            <style>\n",
       "                .geemap-dark {\n",
       "                    --jp-widgets-color: white;\n",
       "                    --jp-widgets-label-color: white;\n",
       "                    --jp-ui-font-color1: white;\n",
       "                    --jp-layout-color2: #454545;\n",
       "                    background-color: #383838;\n",
       "                }\n",
       "\n",
       "                .geemap-dark .jupyter-button {\n",
       "                    --jp-layout-color3: #383838;\n",
       "                }\n",
       "\n",
       "                .geemap-colab {\n",
       "                    background-color: var(--colab-primary-surface-color, white);\n",
       "                }\n",
       "\n",
       "                .geemap-colab .jupyter-button {\n",
       "                    --jp-layout-color3: var(--colab-primary-surface-color, white);\n",
       "                }\n",
       "            </style>\n",
       "            "
      ],
      "text/plain": [
       "<IPython.core.display.HTML object>"
      ]
     },
     "metadata": {},
     "output_type": "display_data"
    }
   ],
   "source": [
    "# Function to generate sample points\n",
    "def generateSamplePoints(image, country_name, band_name, scale=100, seed=42, save=False, output_folder=None):\n",
    "\n",
    "    country_geom = europe.filter(ee.Filter.eq('name', country_name)).first().geometry()\n",
    "    country_n_samples = area[area['country']==country_name].values[0][-1]\n",
    "\n",
    "    country_lulc = image.clip(country_geom)\n",
    "\n",
    "    # Calculate the frequency histogram\n",
    "    freq_hist = country_lulc.reduceRegion(\n",
    "        reducer=ee.Reducer.frequencyHistogram(), \n",
    "        geometry=country_geom,\n",
    "        scale=100, \n",
    "        bestEffort=True,\n",
    "        maxPixels=1e10,\n",
    "        tileScale=8\n",
    "    )\n",
    "\n",
    "    # Extract the class values\n",
    "    country_class_values = [int(i) for i in freq_hist.getInfo()[band_name].keys()]\n",
    "\n",
    "    # Calculate the sample per class\n",
    "    sample_per_calss = country_n_samples // len(country_class_values)\n",
    "\n",
    "    # Generate samples for each class\n",
    "    lulc_samples = country_lulc.stratifiedSample(\n",
    "        numPoints=sample_per_calss, \n",
    "        classBand=band_name,\n",
    "        region=country_geom, \n",
    "        scale=scale, \n",
    "        seed=seed, \n",
    "        classValues=country_class_values, \n",
    "        classPoints=[sample_per_calss for i in range(len(country_class_values))], \n",
    "        dropNulls=True, \n",
    "        tileScale=8, \n",
    "        geometries=True\n",
    "    )\n",
    "\n",
    "    lulc_samples_gdf = geemap.ee_to_gdf(lulc_samples)\n",
    "\n",
    "    if save!=False:\n",
    "        if os.path.exists(output_folder)==False:\n",
    "            os.makedirs(output_folder)\n",
    "\n",
    "        file_name = f'{country_name}_samples.shp'\n",
    "        out_file_path = os.path.join(output_folder, file_name)\n",
    "        lulc_samples_gdf.to_file(out_file_path, driver='ESRI Shapefile')\n",
    "        print(f'{file_name} saved successfully at {out_file_path}.')\n",
    "\n",
    "    return lulc_samples_gdf"
   ]
  },
  {
   "cell_type": "code",
   "execution_count": 159,
   "metadata": {},
   "outputs": [
    {
     "data": {
      "text/html": [
       "\n",
       "            <style>\n",
       "                .geemap-dark {\n",
       "                    --jp-widgets-color: white;\n",
       "                    --jp-widgets-label-color: white;\n",
       "                    --jp-ui-font-color1: white;\n",
       "                    --jp-layout-color2: #454545;\n",
       "                    background-color: #383838;\n",
       "                }\n",
       "\n",
       "                .geemap-dark .jupyter-button {\n",
       "                    --jp-layout-color3: #383838;\n",
       "                }\n",
       "\n",
       "                .geemap-colab {\n",
       "                    background-color: var(--colab-primary-surface-color, white);\n",
       "                }\n",
       "\n",
       "                .geemap-colab .jupyter-button {\n",
       "                    --jp-layout-color3: var(--colab-primary-surface-color, white);\n",
       "                }\n",
       "            </style>\n",
       "            "
      ],
      "text/plain": [
       "<IPython.core.display.HTML object>"
      ]
     },
     "metadata": {},
     "output_type": "display_data"
    },
    {
     "name": "stdout",
     "output_type": "stream",
     "text": [
      "Germany_samples.shp saved successfully at datasets\\shapefiles\\Germany_samples.shp.\n"
     ]
    }
   ],
   "source": [
    "# Apply the function over all the images\n",
    "germ_samples = generateSamplePoints(\n",
    "    image=corine_2018,\n",
    "    country_name='Germany', \n",
    "    band_name='landcover',\n",
    "    scale=100, \n",
    "    seed=42, \n",
    "    save=True, \n",
    "    output_folder='datasets\\\\shapefiles')"
   ]
  }
 ],
 "metadata": {
  "kernelspec": {
   "display_name": "py310",
   "language": "python",
   "name": "python3"
  },
  "language_info": {
   "codemirror_mode": {
    "name": "ipython",
    "version": 3
   },
   "file_extension": ".py",
   "mimetype": "text/x-python",
   "name": "python",
   "nbconvert_exporter": "python",
   "pygments_lexer": "ipython3",
   "version": "3.10.16"
  }
 },
 "nbformat": 4,
 "nbformat_minor": 2
}
