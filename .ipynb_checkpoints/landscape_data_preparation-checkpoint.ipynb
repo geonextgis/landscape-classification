{
 "cells": [
  {
   "cell_type": "markdown",
   "metadata": {},
   "source": [
    "## **Landscape Data Preparation**"
   ]
  },
  {
   "cell_type": "markdown",
   "metadata": {},
   "source": [
    "### **Import Dependencies**"
   ]
  },
  {
   "cell_type": "code",
   "execution_count": 1,
   "metadata": {},
   "outputs": [
    {
     "name": "stdout",
     "output_type": "stream",
     "text": [
      "'datasets' folder is already existed.\n"
     ]
    }
   ],
   "source": [
    "import numpy as np\n",
    "import pandas as pd\n",
    "import matplotlib.pyplot as plt\n",
    "import seaborn as sns\n",
    "import geopandas as gpd\n",
    "import ee\n",
    "import geemap\n",
    "from tqdm.auto import tqdm\n",
    "import os\n",
    "from glob import glob\n",
    "import json\n",
    "import logging\n",
    "import multiprocessing\n",
    "import requests\n",
    "import shutil\n",
    "from retry import retry\n",
    "\n",
    "import warnings\n",
    "warnings.filterwarnings('ignore')\n",
    "\n",
    "# create necessary folders\n",
    "if os.path.exists('datasets'):\n",
    "    print(\"'datasets' folder is already existed.\")\n",
    "else:\n",
    "    os.makedirs('datasets')\n",
    "    print(\"'datasets' folder has been successfully created.\")"
   ]
  },
  {
   "cell_type": "markdown",
   "metadata": {},
   "source": [
    "### **Initialize a Map Object**"
   ]
  },
  {
   "cell_type": "code",
   "execution_count": 2,
   "metadata": {},
   "outputs": [
    {
     "data": {
      "text/html": [
       "\n",
       "            <style>\n",
       "                .geemap-dark {\n",
       "                    --jp-widgets-color: white;\n",
       "                    --jp-widgets-label-color: white;\n",
       "                    --jp-ui-font-color1: white;\n",
       "                    --jp-layout-color2: #454545;\n",
       "                    background-color: #383838;\n",
       "                }\n",
       "\n",
       "                .geemap-dark .jupyter-button {\n",
       "                    --jp-layout-color3: #383838;\n",
       "                }\n",
       "\n",
       "                .geemap-colab {\n",
       "                    background-color: var(--colab-primary-surface-color, white);\n",
       "                }\n",
       "\n",
       "                .geemap-colab .jupyter-button {\n",
       "                    --jp-layout-color3: var(--colab-primary-surface-color, white);\n",
       "                }\n",
       "            </style>\n",
       "            "
      ],
      "text/plain": [
       "<IPython.core.display.HTML object>"
      ]
     },
     "metadata": {},
     "output_type": "display_data"
    },
    {
     "data": {
      "application/vnd.jupyter.widget-view+json": {
       "model_id": "4ff87c51835f4b2daf7c05f11f0999a0",
       "version_major": 2,
       "version_minor": 0
      },
      "text/plain": [
       "Map(center=[0, 0], controls=(WidgetControl(options=['position', 'transparent_bg'], widget=SearchDataGUI(childr…"
      ]
     },
     "execution_count": 2,
     "metadata": {},
     "output_type": "execute_result"
    }
   ],
   "source": [
    "ee.Authenticate()\n",
    "ee.Initialize(opt_url=\"https://earthengine-highvolume.googleapis.com\")\n",
    "\n",
    "Map = geemap.Map(basemap=\"Esri.WorldImagery\")\n",
    "Map"
   ]
  },
  {
   "cell_type": "markdown",
   "metadata": {},
   "source": [
    "### **Import World Administrative Boundary Layer**"
   ]
  },
  {
   "cell_type": "code",
   "execution_count": 3,
   "metadata": {},
   "outputs": [
    {
     "data": {
      "text/html": [
       "\n",
       "            <style>\n",
       "                .geemap-dark {\n",
       "                    --jp-widgets-color: white;\n",
       "                    --jp-widgets-label-color: white;\n",
       "                    --jp-ui-font-color1: white;\n",
       "                    --jp-layout-color2: #454545;\n",
       "                    background-color: #383838;\n",
       "                }\n",
       "\n",
       "                .geemap-dark .jupyter-button {\n",
       "                    --jp-layout-color3: #383838;\n",
       "                }\n",
       "\n",
       "                .geemap-colab {\n",
       "                    background-color: var(--colab-primary-surface-color, white);\n",
       "                }\n",
       "\n",
       "                .geemap-colab .jupyter-button {\n",
       "                    --jp-layout-color3: var(--colab-primary-surface-color, white);\n",
       "                }\n",
       "            </style>\n",
       "            "
      ],
      "text/plain": [
       "<IPython.core.display.HTML object>"
      ]
     },
     "metadata": {},
     "output_type": "display_data"
    }
   ],
   "source": [
    "# Import World Administrative Layer\n",
    "world = ee.FeatureCollection('projects/ee-geonextgis/assets/world_administrative_boundaries')\n",
    "\n",
    "# Filter the countries belonging to Europe\n",
    "europe = world.filter(ee.Filter.eq('continent', 'Europe'))\n",
    "europe_country_names = europe.aggregate_array('name').getInfo()\n",
    "\n",
    "# Define the countries to remove\n",
    "countries_to_remove = {'Russian Federation', 'Belarus', 'Ukraine', 'Moldova, Republic of', 'Svalbard and Jan Mayen Islands'}\n",
    "europe_country_names = list(set(europe_country_names).difference(countries_to_remove))\n",
    "europe_country_names.append('Turkey')\n",
    "europe = world.filter(ee.Filter.inList('name', europe_country_names))\n",
    "\n",
    "style = {'fillColor': '00000000', 'color': 'red', 'width': 1}\n",
    "Map.addLayer(europe.style(**style), {}, 'Europe')"
   ]
  },
  {
   "cell_type": "markdown",
   "metadata": {},
   "source": [
    "### **Calculate the Area and Number of Samples per Country**"
   ]
  },
  {
   "cell_type": "code",
   "execution_count": 4,
   "metadata": {},
   "outputs": [
    {
     "data": {
      "text/html": [
       "\n",
       "            <style>\n",
       "                .geemap-dark {\n",
       "                    --jp-widgets-color: white;\n",
       "                    --jp-widgets-label-color: white;\n",
       "                    --jp-ui-font-color1: white;\n",
       "                    --jp-layout-color2: #454545;\n",
       "                    background-color: #383838;\n",
       "                }\n",
       "\n",
       "                .geemap-dark .jupyter-button {\n",
       "                    --jp-layout-color3: #383838;\n",
       "                }\n",
       "\n",
       "                .geemap-colab {\n",
       "                    background-color: var(--colab-primary-surface-color, white);\n",
       "                }\n",
       "\n",
       "                .geemap-colab .jupyter-button {\n",
       "                    --jp-layout-color3: var(--colab-primary-surface-color, white);\n",
       "                }\n",
       "            </style>\n",
       "            "
      ],
      "text/plain": [
       "<IPython.core.display.HTML object>"
      ]
     },
     "metadata": {},
     "output_type": "display_data"
    },
    {
     "name": "stdout",
     "output_type": "stream",
     "text": [
      "(41, 4)\n"
     ]
    },
    {
     "data": {
      "text/html": [
       "<div>\n",
       "<style scoped>\n",
       "    .dataframe tbody tr th:only-of-type {\n",
       "        vertical-align: middle;\n",
       "    }\n",
       "\n",
       "    .dataframe tbody tr th {\n",
       "        vertical-align: top;\n",
       "    }\n",
       "\n",
       "    .dataframe thead th {\n",
       "        text-align: right;\n",
       "    }\n",
       "</style>\n",
       "<table border=\"1\" class=\"dataframe\">\n",
       "  <thead>\n",
       "    <tr style=\"text-align: right;\">\n",
       "      <th></th>\n",
       "      <th>country</th>\n",
       "      <th>area</th>\n",
       "      <th>area_proportion</th>\n",
       "      <th>n_of_smaples</th>\n",
       "    </tr>\n",
       "  </thead>\n",
       "  <tbody>\n",
       "    <tr>\n",
       "      <th>0</th>\n",
       "      <td>Turkey</td>\n",
       "      <td>779333</td>\n",
       "      <td>0.1345</td>\n",
       "      <td>13450</td>\n",
       "    </tr>\n",
       "    <tr>\n",
       "      <th>32</th>\n",
       "      <td>France</td>\n",
       "      <td>546646</td>\n",
       "      <td>0.0943</td>\n",
       "      <td>9430</td>\n",
       "    </tr>\n",
       "    <tr>\n",
       "      <th>30</th>\n",
       "      <td>Spain</td>\n",
       "      <td>505656</td>\n",
       "      <td>0.0873</td>\n",
       "      <td>8730</td>\n",
       "    </tr>\n",
       "    <tr>\n",
       "      <th>17</th>\n",
       "      <td>Sweden</td>\n",
       "      <td>443345</td>\n",
       "      <td>0.0765</td>\n",
       "      <td>7650</td>\n",
       "    </tr>\n",
       "    <tr>\n",
       "      <th>38</th>\n",
       "      <td>Germany</td>\n",
       "      <td>355924</td>\n",
       "      <td>0.0614</td>\n",
       "      <td>6140</td>\n",
       "    </tr>\n",
       "  </tbody>\n",
       "</table>\n",
       "</div>"
      ],
      "text/plain": [
       "    country    area  area_proportion  n_of_smaples\n",
       "0    Turkey  779333           0.1345         13450\n",
       "32   France  546646           0.0943          9430\n",
       "30    Spain  505656           0.0873          8730\n",
       "17   Sweden  443345           0.0765          7650\n",
       "38  Germany  355924           0.0614          6140"
      ]
     },
     "execution_count": 4,
     "metadata": {},
     "output_type": "execute_result"
    }
   ],
   "source": [
    "# Calculate the area for each country\n",
    "area = europe.map(lambda f: ee.Feature(None, {'country': f.get('name'), 'area': f.area()}))\n",
    "area = geemap.ee_to_df(area)\n",
    "area['area'] = (area['area'] // 1000000).astype('int')\n",
    "area = area[['country', 'area']]\n",
    "\n",
    "# Calculate the area proportion\n",
    "area['area_proportion'] = ((area['area'] / area['area'].sum())).round(4)\n",
    "\n",
    "# Calculate the number of samples per country\n",
    "total_n_samples = 1e5\n",
    "area['n_of_smaples'] = (area['area_proportion'] * total_n_samples).astype('int')\n",
    "\n",
    "# Drop the columns where number of samples is 0\n",
    "area = area[area['n_of_smaples']>0]\n",
    "area.sort_values(by='n_of_smaples', ascending=False, inplace=True)\n",
    "\n",
    "print(area.shape)\n",
    "area.head()"
   ]
  },
  {
   "cell_type": "markdown",
   "metadata": {},
   "source": [
    "### **Import the CORINE LULC Product for 2018**"
   ]
  },
  {
   "cell_type": "code",
   "execution_count": 5,
   "metadata": {},
   "outputs": [
    {
     "data": {
      "text/html": [
       "\n",
       "            <style>\n",
       "                .geemap-dark {\n",
       "                    --jp-widgets-color: white;\n",
       "                    --jp-widgets-label-color: white;\n",
       "                    --jp-ui-font-color1: white;\n",
       "                    --jp-layout-color2: #454545;\n",
       "                    background-color: #383838;\n",
       "                }\n",
       "\n",
       "                .geemap-dark .jupyter-button {\n",
       "                    --jp-layout-color3: #383838;\n",
       "                }\n",
       "\n",
       "                .geemap-colab {\n",
       "                    background-color: var(--colab-primary-surface-color, white);\n",
       "                }\n",
       "\n",
       "                .geemap-colab .jupyter-button {\n",
       "                    --jp-layout-color3: var(--colab-primary-surface-color, white);\n",
       "                }\n",
       "            </style>\n",
       "            "
      ],
      "text/plain": [
       "<IPython.core.display.HTML object>"
      ]
     },
     "metadata": {},
     "output_type": "display_data"
    }
   ],
   "source": [
    "# Import the CORINE LULC 2018\n",
    "corine_2018 = ee.Image('COPERNICUS/CORINE/V20/100m/2018')\\\n",
    "                .select('landcover')\n",
    "Map.setCenter(16.436, 39.825, 6);\n",
    "Map.addLayer(corine_2018, {}, 'CORINE Land Cover')"
   ]
  },
  {
   "cell_type": "code",
   "execution_count": 6,
   "metadata": {},
   "outputs": [
    {
     "data": {
      "text/html": [
       "\n",
       "            <style>\n",
       "                .geemap-dark {\n",
       "                    --jp-widgets-color: white;\n",
       "                    --jp-widgets-label-color: white;\n",
       "                    --jp-ui-font-color1: white;\n",
       "                    --jp-layout-color2: #454545;\n",
       "                    background-color: #383838;\n",
       "                }\n",
       "\n",
       "                .geemap-dark .jupyter-button {\n",
       "                    --jp-layout-color3: #383838;\n",
       "                }\n",
       "\n",
       "                .geemap-colab {\n",
       "                    background-color: var(--colab-primary-surface-color, white);\n",
       "                }\n",
       "\n",
       "                .geemap-colab .jupyter-button {\n",
       "                    --jp-layout-color3: var(--colab-primary-surface-color, white);\n",
       "                }\n",
       "            </style>\n",
       "            "
      ],
      "text/plain": [
       "<IPython.core.display.HTML object>"
      ]
     },
     "metadata": {},
     "output_type": "display_data"
    },
    {
     "name": "stdout",
     "output_type": "stream",
     "text": [
      "Number of classes in the CORINE LULC: 44\n"
     ]
    }
   ],
   "source": [
    "# Extract all the class values from the image\n",
    "class_values = corine_2018.get('landcover_class_values').getInfo()\n",
    "class_palette = corine_2018.get('landcover_class_palette').getInfo()\n",
    "\n",
    "print('Number of classes in the CORINE LULC:', len(class_values))"
   ]
  },
  {
   "cell_type": "markdown",
   "metadata": {},
   "source": [
    "### **Generate Equal Number of Samples from Each Class**"
   ]
  },
  {
   "cell_type": "code",
   "execution_count": 7,
   "metadata": {},
   "outputs": [
    {
     "data": {
      "text/html": [
       "\n",
       "            <style>\n",
       "                .geemap-dark {\n",
       "                    --jp-widgets-color: white;\n",
       "                    --jp-widgets-label-color: white;\n",
       "                    --jp-ui-font-color1: white;\n",
       "                    --jp-layout-color2: #454545;\n",
       "                    background-color: #383838;\n",
       "                }\n",
       "\n",
       "                .geemap-dark .jupyter-button {\n",
       "                    --jp-layout-color3: #383838;\n",
       "                }\n",
       "\n",
       "                .geemap-colab {\n",
       "                    background-color: var(--colab-primary-surface-color, white);\n",
       "                }\n",
       "\n",
       "                .geemap-colab .jupyter-button {\n",
       "                    --jp-layout-color3: var(--colab-primary-surface-color, white);\n",
       "                }\n",
       "            </style>\n",
       "            "
      ],
      "text/plain": [
       "<IPython.core.display.HTML object>"
      ]
     },
     "metadata": {},
     "output_type": "display_data"
    }
   ],
   "source": [
    "# Function to generate sample points\n",
    "def generateSamplePoints(image, \n",
    "                         country_name, \n",
    "                         band_name, \n",
    "                         scale=100, \n",
    "                         seed=42, \n",
    "                         save=False, \n",
    "                         output_folder=None):\n",
    "    \"\"\"\n",
    "    Generate stratified sample points for a given country from a land use/land cover (LULC) image.\n",
    "\n",
    "    Args:\n",
    "        image (ee.Image): The Earth Engine image containing LULC data.\n",
    "        country_name (str): Name of the country for which to generate sample points.\n",
    "        band_name (str): Name of the band containing the LULC classification.\n",
    "        scale (int, optional): Scale in meters for sampling. Default is 100.\n",
    "        seed (int, optional): Random seed for reproducibility. Default is 42.\n",
    "        save (bool, optional): Whether to save the samples as a shapefile. Default is False.\n",
    "        output_folder (str, optional): Folder to save the output shapefile if `save` is True. Default is None.\n",
    "\n",
    "    Returns:\n",
    "        geopandas.GeoDataFrame: A GeoDataFrame containing the stratified sample points with their respective attributes.\n",
    "\n",
    "    \"\"\"\n",
    "    country_geom = europe.filter(ee.Filter.eq('name', country_name)).first().geometry()\n",
    "    country_n_samples = area[area['country']==country_name].values[0][-1]\n",
    "\n",
    "    country_lulc = image.clip(country_geom)\n",
    "\n",
    "    # Calculate the frequency histogram\n",
    "    freq_hist = country_lulc.reduceRegion(\n",
    "        reducer=ee.Reducer.frequencyHistogram(), \n",
    "        geometry=country_geom,\n",
    "        scale=100, \n",
    "        bestEffort=True,\n",
    "        maxPixels=1e10,\n",
    "        tileScale=8\n",
    "    )\n",
    "\n",
    "    # Extract the class values\n",
    "    country_class_values = [int(i) for i in freq_hist.getInfo()[band_name].keys()]\n",
    "\n",
    "    # Calculate the sample per class\n",
    "    sample_per_calss = country_n_samples // len(country_class_values)\n",
    "\n",
    "    # Generate samples for each class\n",
    "    lulc_samples = country_lulc.stratifiedSample(\n",
    "        numPoints=sample_per_calss, \n",
    "        classBand=band_name,\n",
    "        region=country_geom, \n",
    "        scale=scale, \n",
    "        seed=seed, \n",
    "        classValues=country_class_values, \n",
    "        classPoints=[sample_per_calss for i in range(len(country_class_values))], \n",
    "        dropNulls=True, \n",
    "        tileScale=8, \n",
    "        geometries=True\n",
    "    )\n",
    "\n",
    "    lulc_samples_gdf = geemap.ee_to_gdf(lulc_samples)\n",
    "\n",
    "    if save!=False:\n",
    "        if os.path.exists(output_folder)==False:\n",
    "            os.makedirs(output_folder)\n",
    "\n",
    "        file_name = f'{country_name}_samples.shp'\n",
    "        out_file_path = os.path.join(output_folder, file_name)\n",
    "        lulc_samples_gdf.to_file(out_file_path, driver='ESRI Shapefile')\n",
    "        print(f'{file_name} saved successfully at {out_file_path}.')\n",
    "\n",
    "    return lulc_samples_gdf"
   ]
  },
  {
   "cell_type": "code",
   "execution_count": 8,
   "metadata": {},
   "outputs": [
    {
     "data": {
      "text/html": [
       "\n",
       "            <style>\n",
       "                .geemap-dark {\n",
       "                    --jp-widgets-color: white;\n",
       "                    --jp-widgets-label-color: white;\n",
       "                    --jp-ui-font-color1: white;\n",
       "                    --jp-layout-color2: #454545;\n",
       "                    background-color: #383838;\n",
       "                }\n",
       "\n",
       "                .geemap-dark .jupyter-button {\n",
       "                    --jp-layout-color3: #383838;\n",
       "                }\n",
       "\n",
       "                .geemap-colab {\n",
       "                    background-color: var(--colab-primary-surface-color, white);\n",
       "                }\n",
       "\n",
       "                .geemap-colab .jupyter-button {\n",
       "                    --jp-layout-color3: var(--colab-primary-surface-color, white);\n",
       "                }\n",
       "            </style>\n",
       "            "
      ],
      "text/plain": [
       "<IPython.core.display.HTML object>"
      ]
     },
     "metadata": {},
     "output_type": "display_data"
    }
   ],
   "source": [
    "# # Apply the function over all the countries\n",
    "# for country in tqdm(europe_country_names):\n",
    "#     generateSamplePoints(\n",
    "#         image=corine_2018,\n",
    "#         country_name=country, \n",
    "#         band_name='landcover',\n",
    "#         scale=100, \n",
    "#         seed=42, \n",
    "#         save=True, \n",
    "#         output_folder='datasets\\\\shapefiles'\n",
    "#     )"
   ]
  },
  {
   "cell_type": "markdown",
   "metadata": {},
   "source": [
    "### **Prepare the Sentinel Image Source**"
   ]
  },
  {
   "cell_type": "code",
   "execution_count": 9,
   "metadata": {},
   "outputs": [
    {
     "data": {
      "text/html": [
       "\n",
       "            <style>\n",
       "                .geemap-dark {\n",
       "                    --jp-widgets-color: white;\n",
       "                    --jp-widgets-label-color: white;\n",
       "                    --jp-ui-font-color1: white;\n",
       "                    --jp-layout-color2: #454545;\n",
       "                    background-color: #383838;\n",
       "                }\n",
       "\n",
       "                .geemap-dark .jupyter-button {\n",
       "                    --jp-layout-color3: #383838;\n",
       "                }\n",
       "\n",
       "                .geemap-colab {\n",
       "                    background-color: var(--colab-primary-surface-color, white);\n",
       "                }\n",
       "\n",
       "                .geemap-colab .jupyter-button {\n",
       "                    --jp-layout-color3: var(--colab-primary-surface-color, white);\n",
       "                }\n",
       "            </style>\n",
       "            "
      ],
      "text/plain": [
       "<IPython.core.display.HTML object>"
      ]
     },
     "metadata": {},
     "output_type": "display_data"
    }
   ],
   "source": [
    "# Function to remove clouds and snow from Sentine-2 imagery\n",
    "def maskS2CloudsAndSnow(image, cloud_perc=10, mask_snow=True, snow_perc=10):\n",
    "    \n",
    "    cloudProb = image.select(\"MSK_CLDPRB\")\n",
    "    cloud = cloudProb.lt(cloud_perc)\n",
    "    snowProb = image.select(\"MSK_SNWPRB\")\n",
    "    snow = snowProb.lt(snow_perc)\n",
    "    scl = image.select(\"SCL\")\n",
    "    cloudShadow = scl.eq(3)\n",
    "    cirrus = scl.eq(10)\n",
    "    \n",
    "    if mask_snow==True:\n",
    "       mask = cloud.And(snow).And(cloudShadow.neq(1)).And(cirrus.neq(1))\n",
    "    else:\n",
    "       mask = cloud.And(cloudShadow.neq(1)).And(cirrus.neq(1))\n",
    "        \n",
    "    return image.updateMask(mask)\n",
    "\n",
    "# Function to perform edge masking on Sentinel-1 images\n",
    "def edgeMasking(image, min_thresh=30, max_thresh=45):\n",
    "    \n",
    "    angle = image.select(\"angle\")\n",
    "    mask = angle.gt(min_thresh).And(angle.lt(max_thresh))\n",
    "\n",
    "    return image.updateMask(mask)"
   ]
  },
  {
   "cell_type": "code",
   "execution_count": 10,
   "metadata": {},
   "outputs": [
    {
     "data": {
      "text/html": [
       "\n",
       "            <style>\n",
       "                .geemap-dark {\n",
       "                    --jp-widgets-color: white;\n",
       "                    --jp-widgets-label-color: white;\n",
       "                    --jp-ui-font-color1: white;\n",
       "                    --jp-layout-color2: #454545;\n",
       "                    background-color: #383838;\n",
       "                }\n",
       "\n",
       "                .geemap-dark .jupyter-button {\n",
       "                    --jp-layout-color3: #383838;\n",
       "                }\n",
       "\n",
       "                .geemap-colab {\n",
       "                    background-color: var(--colab-primary-surface-color, white);\n",
       "                }\n",
       "\n",
       "                .geemap-colab .jupyter-button {\n",
       "                    --jp-layout-color3: var(--colab-primary-surface-color, white);\n",
       "                }\n",
       "            </style>\n",
       "            "
      ],
      "text/plain": [
       "<IPython.core.display.HTML object>"
      ]
     },
     "metadata": {},
     "output_type": "display_data"
    }
   ],
   "source": [
    "# Function to prepare Sentinel 1 and 2 composite\n",
    "def prepareSentinelComposite(region, \n",
    "                             s1_band_names, \n",
    "                             s2_band_names,\n",
    "                             start_date,\n",
    "                             end_date):\n",
    "\n",
    "    # Read the Sentinel-2 and Sentinel-1 images from the Earth Engine\n",
    "    sentinel_2 = ee.ImageCollection(\"COPERNICUS/S2_SR_HARMONIZED\")\\\n",
    "        .filterBounds(region.bounds())\\\n",
    "        .filterDate(start_date, end_date)\\\n",
    "        .filterMetadata(\"CLOUDY_PIXEL_PERCENTAGE\", \"less_than\", 10)\\\n",
    "        .map(maskS2CloudsAndSnow)\\\n",
    "        .select(s2_band_names)\\\n",
    "        .median()\\\n",
    "        .clip(region.bounds())\n",
    "    \n",
    "    sentinel_1 = ee.ImageCollection(\"COPERNICUS/S1_GRD\")\\\n",
    "        .filterBounds(region.bounds())\\\n",
    "        .filterDate(start_date, end_date)\\\n",
    "        .filter(ee.Filter.listContains(\"transmitterReceiverPolarisation\", \"VV\"))\\\n",
    "        .filter(ee.Filter.listContains(\"transmitterReceiverPolarisation\", \"VH\"))\\\n",
    "        .filter(ee.Filter.eq('instrumentMode', 'IW'))\\\n",
    "        .filter(ee.Filter.eq(\"orbitProperties_pass\", \"DESCENDING\"))\\\n",
    "        .map(edgeMasking)\\\n",
    "        .select(s1_band_names)\\\n",
    "        .mean()\\\n",
    "        .clip(region.bounds())\n",
    "    \n",
    "    # Combine both the Image\n",
    "    sentinel_combined = sentinel_2.addBands(sentinel_1)\n",
    "\n",
    "    return sentinel_combined"
   ]
  },
  {
   "cell_type": "markdown",
   "metadata": {},
   "source": [
    "### **Prepare LULC Source (CORINE, Dynamic World, ESRI)**"
   ]
  },
  {
   "cell_type": "code",
   "execution_count": 11,
   "metadata": {},
   "outputs": [
    {
     "data": {
      "text/html": [
       "\n",
       "            <style>\n",
       "                .geemap-dark {\n",
       "                    --jp-widgets-color: white;\n",
       "                    --jp-widgets-label-color: white;\n",
       "                    --jp-ui-font-color1: white;\n",
       "                    --jp-layout-color2: #454545;\n",
       "                    background-color: #383838;\n",
       "                }\n",
       "\n",
       "                .geemap-dark .jupyter-button {\n",
       "                    --jp-layout-color3: #383838;\n",
       "                }\n",
       "\n",
       "                .geemap-colab {\n",
       "                    background-color: var(--colab-primary-surface-color, white);\n",
       "                }\n",
       "\n",
       "                .geemap-colab .jupyter-button {\n",
       "                    --jp-layout-color3: var(--colab-primary-surface-color, white);\n",
       "                }\n",
       "            </style>\n",
       "            "
      ],
      "text/plain": [
       "<IPython.core.display.HTML object>"
      ]
     },
     "metadata": {},
     "output_type": "display_data"
    }
   ],
   "source": [
    "# Function to prepare Sentinel 1 and 2 composite\n",
    "def prepareLULCSource(region,\n",
    "                      year,\n",
    "                      start_date,\n",
    "                      end_date):\n",
    "    \n",
    "    # Prepare the CORINE LULC Dataset\n",
    "    proj = ee.Projection(\"EPSG:4326\")\n",
    "    corine = ee.Image('COPERNICUS/CORINE/V20/100m/2018')\\\n",
    "        .select('landcover')\\\n",
    "        .rename('corine')\\\n",
    "        .reproject(proj, None, 100)\\\n",
    "        .clip(region.bounds())\n",
    "\n",
    "    # Prepare the Dynamic World LULC dataset\n",
    "    dynamic_world = ee.ImageCollection(\"GOOGLE/DYNAMICWORLD/V1\")\\\n",
    "        .filterBounds(region.bounds())\\\n",
    "        .filterDate(start_date, end_date)\\\n",
    "        .select(\"label\")\\\n",
    "        .mode()\\\n",
    "        .rename('dynamic_world')\\\n",
    "        .clip(region.bounds())\n",
    "    \n",
    "    # Prepare the ESRI LULC dataset\n",
    "    esri = ee.ImageCollection(\"projects/sat-io/open-datasets/landcover/ESRI_Global-LULC_10m_TS\")\\\n",
    "        .filterBounds(region.bounds())\\\n",
    "        .filterDate(f'{year}-01-01', f'{year}-12-31')\\\n",
    "        .mosaic()\\\n",
    "        .remap([1,2,4,5,7,8,9,10,11],[1,2,3,4,5,6,7,8,9])\\\n",
    "        .rename('esri')\\\n",
    "        .clip(region.bounds())\n",
    "\n",
    "    # Combine both the Image\n",
    "    lulc_combined = corine.addBands(dynamic_world).addBands(esri)\n",
    "\n",
    "    return lulc_combined"
   ]
  },
  {
   "cell_type": "code",
   "execution_count": 12,
   "metadata": {},
   "outputs": [
    {
     "data": {
      "text/html": [
       "\n",
       "            <style>\n",
       "                .geemap-dark {\n",
       "                    --jp-widgets-color: white;\n",
       "                    --jp-widgets-label-color: white;\n",
       "                    --jp-ui-font-color1: white;\n",
       "                    --jp-layout-color2: #454545;\n",
       "                    background-color: #383838;\n",
       "                }\n",
       "\n",
       "                .geemap-dark .jupyter-button {\n",
       "                    --jp-layout-color3: #383838;\n",
       "                }\n",
       "\n",
       "                .geemap-colab {\n",
       "                    background-color: var(--colab-primary-surface-color, white);\n",
       "                }\n",
       "\n",
       "                .geemap-colab .jupyter-button {\n",
       "                    --jp-layout-color3: var(--colab-primary-surface-color, white);\n",
       "                }\n",
       "            </style>\n",
       "            "
      ],
      "text/plain": [
       "<IPython.core.display.HTML object>"
      ]
     },
     "metadata": {},
     "output_type": "display_data"
    }
   ],
   "source": [
    "## Example usage\n",
    "# Define the Sentinel-2 and Sentinel-1 band names\n",
    "s2_band_names = ['B2', 'B3', 'B4', 'B5', 'B6', 'B7', 'B8', 'B11', 'B12']\n",
    "s1_band_names = [\"VH\", \"VV\"]\n",
    "\n",
    "# Define the start, end date, and year\n",
    "start_date = \"2017-06-01\"\n",
    "end_date = \"2018-05-31\"\n",
    "year = 2018\n",
    "\n",
    "test_region = europe.filter(ee.Filter.eq('name', 'Germany')).geometry()\n",
    "\n",
    "test_sentinel_composite = prepareSentinelComposite(\n",
    "    region=test_region, \n",
    "    s1_band_names=s1_band_names, \n",
    "    s2_band_names=s2_band_names,\n",
    "    start_date=start_date,\n",
    "    end_date=end_date\n",
    ")\n",
    "\n",
    "test_lulc_combined = prepareLULCSource(\n",
    "    region=test_region,\n",
    "    year=year,\n",
    "    start_date=start_date,\n",
    "    end_date=end_date\n",
    ")\n",
    "\n",
    "Map.addLayer(test_sentinel_composite, {\"min\": 0, \"max\": 4000, \"bands\": [\"B8\", \"B4\", \"B3\"]}, \"Test Sentinel Image\")\n",
    "Map.addLayer(test_lulc_combined, {}, \"Test LULC Image\")"
   ]
  },
  {
   "cell_type": "markdown",
   "metadata": {},
   "source": [
    "### **Data Extraction Module**"
   ]
  },
  {
   "cell_type": "code",
   "execution_count": 13,
   "metadata": {},
   "outputs": [
    {
     "data": {
      "text/html": [
       "\n",
       "            <style>\n",
       "                .geemap-dark {\n",
       "                    --jp-widgets-color: white;\n",
       "                    --jp-widgets-label-color: white;\n",
       "                    --jp-ui-font-color1: white;\n",
       "                    --jp-layout-color2: #454545;\n",
       "                    background-color: #383838;\n",
       "                }\n",
       "\n",
       "                .geemap-dark .jupyter-button {\n",
       "                    --jp-layout-color3: #383838;\n",
       "                }\n",
       "\n",
       "                .geemap-colab {\n",
       "                    background-color: var(--colab-primary-surface-color, white);\n",
       "                }\n",
       "\n",
       "                .geemap-colab .jupyter-button {\n",
       "                    --jp-layout-color3: var(--colab-primary-surface-color, white);\n",
       "                }\n",
       "            </style>\n",
       "            "
      ],
      "text/plain": [
       "<IPython.core.display.HTML object>"
      ]
     },
     "metadata": {},
     "output_type": "display_data"
    },
    {
     "name": "stdout",
     "output_type": "stream",
     "text": [
      "The number of shapefiles: 37\n"
     ]
    }
   ],
   "source": [
    "# Read all the dataframe path\n",
    "country_samples_path =  glob('D:\\GITHUB\\landscape-classification\\datasets\\\\'+'shapefiles\\\\'+'*.shp')\n",
    "print('The number of shapefiles:', len(country_samples_path))\n",
    "\n",
    "# Define the Sentinel-2 and Sentinel-1 band names\n",
    "s2_band_names = ['B2', 'B3', 'B4', 'B5', 'B6', 'B7', 'B8', 'B11', 'B12']\n",
    "s1_band_names = [\"VH\", \"VV\"]\n",
    "\n",
    "# Define the start, end date, and year\n",
    "start_date = \"2017-06-01\"\n",
    "end_date = \"2018-05-31\"\n",
    "year = 2018"
   ]
  },
  {
   "cell_type": "code",
   "execution_count": 19,
   "metadata": {},
   "outputs": [
    {
     "data": {
      "text/html": [
       "\n",
       "            <style>\n",
       "                .geemap-dark {\n",
       "                    --jp-widgets-color: white;\n",
       "                    --jp-widgets-label-color: white;\n",
       "                    --jp-ui-font-color1: white;\n",
       "                    --jp-layout-color2: #454545;\n",
       "                    background-color: #383838;\n",
       "                }\n",
       "\n",
       "                .geemap-dark .jupyter-button {\n",
       "                    --jp-layout-color3: #383838;\n",
       "                }\n",
       "\n",
       "                .geemap-colab {\n",
       "                    background-color: var(--colab-primary-surface-color, white);\n",
       "                }\n",
       "\n",
       "                .geemap-colab .jupyter-button {\n",
       "                    --jp-layout-color3: var(--colab-primary-surface-color, white);\n",
       "                }\n",
       "            </style>\n",
       "            "
      ],
      "text/plain": [
       "<IPython.core.display.HTML object>"
      ]
     },
     "metadata": {},
     "output_type": "display_data"
    },
    {
     "name": "stdout",
     "output_type": "stream",
     "text": [
      "******************************************************************************************\n",
      "D:\\GITHUB\\landscape-classification\\datasets\\shapefiles\\Albania\n",
      "D:\\GITHUB\\landscape-classification\\datasets\\shapefiles\\Albania directory has been successfully created!\n",
      "D:\\GITHUB\\landscape-classification\\datasets\\shapefiles\\Albania\\Images directory has been successfully created!\n",
      "D:\\GITHUB\\landscape-classification\\datasets\\shapefiles\\Albania\\Masks directory has been successfully created!\n"
     ]
    }
   ],
   "source": [
    "for path in sorted(country_samples_path)[:1]:\n",
    "    country = path.split(\"/\")[-1].split(\"_\")[0]\n",
    "    print(\"******************************************************************************************\")\n",
    "    print(country)\n",
    "    \n",
    "    # Read the geodataframe\n",
    "    sample_gdf = gpd.read_file(path)\n",
    "\n",
    "    # Convert the geodataframe into a json object\n",
    "    sample_json = json.loads(sample_gdf.to_json())[\"features\"]\n",
    "\n",
    "    # Set the output directories\n",
    "    out_country_dir = os.path.join(\"D:\\GITHUB\\landscape-classification\\datasets\\rasters\", country)\n",
    "    out_image_dir = os.path.join(out_country_dir, \"Images\")\n",
    "    out_mask_dir = os.path.join(out_country_dir, \"Masks\")\n",
    "\n",
    "    for p in [out_country_dir, out_image_dir, out_mask_dir]:\n",
    "        if os.path.exists(p):\n",
    "            print(f\"{p} directory is already existed.\")\n",
    "        else:\n",
    "            os.mkdir(p)\n",
    "            print(f\"{p} directory has been successfully created!\")\n",
    "\n",
    "    # Prepare the datasets\n",
    "    region = europe.filter(ee.Filter.eq('name', country)).geometry()\n",
    "\n",
    "    sentinel_composite = prepareSentinelComposite(\n",
    "        region=region,\n",
    "        s1_band_names=s1_band_names,\n",
    "        s2_band_names=s2_band_names,\n",
    "        start_date=start_date,\n",
    "        end_date=end_date\n",
    "    )\n",
    "\n",
    "    lulc_combined = prepareLULCSource(\n",
    "        region=region,\n",
    "        year=year,\n",
    "        start_date=start_date,\n",
    "        end_date=end_date\n",
    "    )\n",
    "\n",
    "    # Set output image parameters\n",
    "    img_params = {\n",
    "        \"count\": len(sample_gdf),\n",
    "        \"buffer\": 1270,\n",
    "        \"dimensions\": \"256x256\",  # The dimension of each image chip\n",
    "        \"format\": \"GEO_TIFF\",  # The output image format, can be png, jpg, ZIPPED_GEO_TIFF, GEO_TIFF, NPY\n",
    "        \"processes\": 30,  # How many processes to used for parallel processing\n",
    "    }\n",
    "    \n",
    "    # Create a Function for Downloading Image\n",
    "    @retry(tries=10, delay=1, backoff=2)\n",
    "    def getResult(id, type, props, geom):\n",
    "\n",
    "        index = id\n",
    "        landcover = props[\"landcover\"]\n",
    "        coords = ee.Geometry.Point(geom[\"coordinates\"])\n",
    "\n",
    "        region = coords.buffer(img_params[\"buffer\"]).bounds()\n",
    "\n",
    "        if img_params[\"format\"] in [\"png\", \"jpg\"]:\n",
    "            img_url = sentinel_composite.getThumbURL(\n",
    "                {\n",
    "                    \"region\": region,\n",
    "                    \"dimensions\": img_params[\"dimensions\"],\n",
    "                    \"format\": img_params[\"format\"],\n",
    "                }\n",
    "            )\n",
    "\n",
    "            mask_url = lulc_combined.getThumbURL(\n",
    "                {\n",
    "                    \"region\": region,\n",
    "                    \"dimensions\": img_params[\"dimensions\"],\n",
    "                    \"format\": img_params[\"format\"],\n",
    "                }\n",
    "            )\n",
    "\n",
    "        else:\n",
    "            img_url = sentinel_composite.getDownloadURL(\n",
    "                {\n",
    "                    \"region\": region,\n",
    "                    \"dimensions\": img_params[\"dimensions\"],\n",
    "                    \"format\": img_params[\"format\"],\n",
    "                }\n",
    "            )\n",
    "\n",
    "            mask_url = lulc_combined.getDownloadURL(\n",
    "                {\n",
    "                    \"region\": region,\n",
    "                    \"dimensions\": img_params[\"dimensions\"],\n",
    "                    \"format\": img_params[\"format\"],\n",
    "                }\n",
    "            )\n",
    "\n",
    "        if img_params[\"format\"] == \"GEO_TIFF\":\n",
    "            ext = \"tif\"\n",
    "        else:\n",
    "            ext = img_params[\"format\"]\n",
    "\n",
    "        r_img = requests.get(img_url, stream=True)\n",
    "        if r_img.status_code != 200:\n",
    "            r_img.raise_for_status()\n",
    "\n",
    "        r_mask = requests.get(mask_url, stream=True)\n",
    "        if r_mask.status_code != 200:\n",
    "            r_mask.raise_for_status()\n",
    "\n",
    "        basename = str(index).zfill(len(str(img_params[\"count\"])))\n",
    "        img_filename = f\"{out_image_dir}/{basename}_{landcover}_Image.{ext}\"\n",
    "        mask_filename = f\"{out_mask_dir}/{basename}_{landcover}_Mask.{ext}\"\n",
    "\n",
    "        with open(img_filename, \"wb\") as out_file:\n",
    "            shutil.copyfileobj(r_img.raw, out_file)\n",
    "        print(\"Done (Image): \", basename)\n",
    "\n",
    "        with open(mask_filename, \"wb\") as out_file:\n",
    "            shutil.copyfileobj(r_mask.raw, out_file)\n",
    "        print(\"Done (Mask): \", basename)\n",
    "\n",
    "    # Extract the patches\n",
    "    logging.basicConfig()\n",
    "    items = [list(i.values()) for i in sample_json]\n",
    "\n",
    "    pool = multiprocessing.Pool(img_params[\"processes\"])\n",
    "    pool.starmap(getResult, items)\n",
    "\n",
    "    pool.close()\n",
    "\n",
    "    # # Define the folder to zip and output file name\n",
    "    # folder_to_zip = os.path.join(\"/content/datasets/\", country)\n",
    "    # output_zip_file = f\"{country}.zip\"\n",
    "\n",
    "    # # Zip the folder\n",
    "    # !zip -r {output_zip_file} {folder_to_zip}\n",
    "\n",
    "    # files.download(output_zip_file)"
   ]
  },
  {
   "cell_type": "code",
   "execution_count": 18,
   "metadata": {},
   "outputs": [
    {
     "data": {
      "text/html": [
       "\n",
       "            <style>\n",
       "                .geemap-dark {\n",
       "                    --jp-widgets-color: white;\n",
       "                    --jp-widgets-label-color: white;\n",
       "                    --jp-ui-font-color1: white;\n",
       "                    --jp-layout-color2: #454545;\n",
       "                    background-color: #383838;\n",
       "                }\n",
       "\n",
       "                .geemap-dark .jupyter-button {\n",
       "                    --jp-layout-color3: #383838;\n",
       "                }\n",
       "\n",
       "                .geemap-colab {\n",
       "                    background-color: var(--colab-primary-surface-color, white);\n",
       "                }\n",
       "\n",
       "                .geemap-colab .jupyter-button {\n",
       "                    --jp-layout-color3: var(--colab-primary-surface-color, white);\n",
       "                }\n",
       "            </style>\n",
       "            "
      ],
      "text/plain": [
       "<IPython.core.display.HTML object>"
      ]
     },
     "metadata": {},
     "output_type": "display_data"
    },
    {
     "data": {
      "text/plain": [
       "{'id': '0',\n",
       " 'type': 'Feature',\n",
       " 'properties': {'landcover': 111},\n",
       " 'geometry': {'type': 'Point',\n",
       "  'coordinates': [9.252520529643364, 48.78194998258037]}}"
      ]
     },
     "execution_count": 18,
     "metadata": {},
     "output_type": "execute_result"
    }
   ],
   "source": [
    "test_gdf = gpd.read_file('D:\\GITHUB\\landscape-classification\\datasets\\shapefiles\\Germany_samples.shp')\n",
    "\n",
    "# convert the geodataframe into a json object\n",
    "test_gdf_json = json.loads(test_gdf.to_json())[\"features\"]\n",
    "test_gdf_json[0]"
   ]
  },
  {
   "cell_type": "code",
   "execution_count": 21,
   "metadata": {},
   "outputs": [
    {
     "data": {
      "text/html": [
       "\n",
       "            <style>\n",
       "                .geemap-dark {\n",
       "                    --jp-widgets-color: white;\n",
       "                    --jp-widgets-label-color: white;\n",
       "                    --jp-ui-font-color1: white;\n",
       "                    --jp-layout-color2: #454545;\n",
       "                    background-color: #383838;\n",
       "                }\n",
       "\n",
       "                .geemap-dark .jupyter-button {\n",
       "                    --jp-layout-color3: #383838;\n",
       "                }\n",
       "\n",
       "                .geemap-colab {\n",
       "                    background-color: var(--colab-primary-surface-color, white);\n",
       "                }\n",
       "\n",
       "                .geemap-colab .jupyter-button {\n",
       "                    --jp-layout-color3: var(--colab-primary-surface-color, white);\n",
       "                }\n",
       "            </style>\n",
       "            "
      ],
      "text/plain": [
       "<IPython.core.display.HTML object>"
      ]
     },
     "metadata": {},
     "output_type": "display_data"
    },
    {
     "name": "stdout",
     "output_type": "stream",
     "text": [
      "Country directory has been successfully created!\n",
      "Image directory has been successfully created!\n",
      "Mask directory has been successfully created!\n"
     ]
    }
   ],
   "source": [
    "# define the prefix\n",
    "state = 'Germany'\n",
    "output_country_folder = rf\"D:\\GITHUB\\landscape-classification\\datasets\\rasters\\{state}\"\n",
    "output_image_dir = rf\"D:\\GITHUB\\landscape-classification\\datasets\\rasters\\{state}\\Images\"\n",
    "output_mask_dir = rf\"D:\\GITHUB\\landscape-classification\\datasets\\rasters\\{state}\\Masks\"\n",
    "\n",
    "if os.path.exists(output_country_folder):\n",
    "  print(\"Country directory is already existed.\")\n",
    "else:\n",
    "  os.mkdir(output_country_folder)\n",
    "  print(\"Country directory has been successfully created!\")\n",
    "\n",
    "if os.path.exists(output_image_dir):\n",
    "  print(\"Image directory is already existed.\")\n",
    "else:\n",
    "  os.mkdir(output_image_dir)\n",
    "  print(\"Image directory has been successfully created!\")\n",
    "\n",
    "if os.path.exists(output_mask_dir):\n",
    "  print(\"Mask directory is already existed.\")\n",
    "else:\n",
    "  os.mkdir(output_mask_dir)\n",
    "  print(\"Mask directory has been successfully created!\")"
   ]
  },
  {
   "cell_type": "code",
   "execution_count": 22,
   "metadata": {},
   "outputs": [
    {
     "data": {
      "text/html": [
       "\n",
       "            <style>\n",
       "                .geemap-dark {\n",
       "                    --jp-widgets-color: white;\n",
       "                    --jp-widgets-label-color: white;\n",
       "                    --jp-ui-font-color1: white;\n",
       "                    --jp-layout-color2: #454545;\n",
       "                    background-color: #383838;\n",
       "                }\n",
       "\n",
       "                .geemap-dark .jupyter-button {\n",
       "                    --jp-layout-color3: #383838;\n",
       "                }\n",
       "\n",
       "                .geemap-colab {\n",
       "                    background-color: var(--colab-primary-surface-color, white);\n",
       "                }\n",
       "\n",
       "                .geemap-colab .jupyter-button {\n",
       "                    --jp-layout-color3: var(--colab-primary-surface-color, white);\n",
       "                }\n",
       "            </style>\n",
       "            "
      ],
      "text/plain": [
       "<IPython.core.display.HTML object>"
      ]
     },
     "metadata": {},
     "output_type": "display_data"
    }
   ],
   "source": [
    "# Set Parameters\n",
    "img_params = {\n",
    "    \"count\": len(test_gdf),\n",
    "    \"buffer\": 1270,\n",
    "    \"dimensions\": \"256x256\",  # The dimension of each image chip\n",
    "    \"format\": \"GEO_TIFF\",  # The output image format, can be png, jpg, ZIPPED_GEO_TIFF, GEO_TIFF, NPY\n",
    "    \"processes\": 30,  # How many processes to used for parallel processing\n",
    "    \"out_dir\": output_image_dir,  # The output directory. Default to the current working directly\n",
    "}\n",
    "\n",
    "mask_params = {\n",
    "    \"count\": len(test_gdf),\n",
    "    \"buffer\": 1270,\n",
    "    \"dimensions\": \"256x256\",  # The dimension of each image chip\n",
    "    \"format\": \"GEO_TIFF\",  # The output image format, can be png, jpg, ZIPPED_GEO_TIFF, GEO_TIFF, NPY\n",
    "    \"processes\": 30,  # How many processes to used for parallel processing\n",
    "    \"out_dir\": output_mask_dir,  # The output directory. Default to the current working directly\n",
    "}"
   ]
  },
  {
   "cell_type": "code",
   "execution_count": 23,
   "metadata": {},
   "outputs": [
    {
     "data": {
      "text/html": [
       "\n",
       "            <style>\n",
       "                .geemap-dark {\n",
       "                    --jp-widgets-color: white;\n",
       "                    --jp-widgets-label-color: white;\n",
       "                    --jp-ui-font-color1: white;\n",
       "                    --jp-layout-color2: #454545;\n",
       "                    background-color: #383838;\n",
       "                }\n",
       "\n",
       "                .geemap-dark .jupyter-button {\n",
       "                    --jp-layout-color3: #383838;\n",
       "                }\n",
       "\n",
       "                .geemap-colab {\n",
       "                    background-color: var(--colab-primary-surface-color, white);\n",
       "                }\n",
       "\n",
       "                .geemap-colab .jupyter-button {\n",
       "                    --jp-layout-color3: var(--colab-primary-surface-color, white);\n",
       "                }\n",
       "            </style>\n",
       "            "
      ],
      "text/plain": [
       "<IPython.core.display.HTML object>"
      ]
     },
     "metadata": {},
     "output_type": "display_data"
    }
   ],
   "source": [
    "# Create a Function for Downloading Image\n",
    "@retry(tries=10, delay=1, backoff=2)\n",
    "def getResult(id, type, props, geom):\n",
    "\n",
    "    index = id\n",
    "    landcover = props[\"landcover\"]\n",
    "    coords = ee.Geometry.Point(geom[\"coordinates\"])\n",
    "\n",
    "    region = coords.buffer(img_params[\"buffer\"]).bounds()\n",
    "\n",
    "    if img_params[\"format\"] in [\"png\", \"jpg\"]:\n",
    "        img_url = test_sentinel_composite.getThumbURL(\n",
    "            {\n",
    "                \"region\": region,\n",
    "                \"dimensions\": img_params[\"dimensions\"],\n",
    "                \"format\": img_params[\"format\"],\n",
    "            }\n",
    "        )\n",
    "\n",
    "        mask_url = test_lulc_combined.getThumbURL(\n",
    "            {\n",
    "                \"region\": region,\n",
    "                \"dimensions\": mask_params[\"dimensions\"],\n",
    "                \"format\": mask_params[\"format\"],\n",
    "            }\n",
    "        )\n",
    "\n",
    "    else:\n",
    "        img_url = test_sentinel_composite.getDownloadURL(\n",
    "            {\n",
    "                \"region\": region,\n",
    "                \"dimensions\": img_params[\"dimensions\"],\n",
    "                \"format\": img_params[\"format\"],\n",
    "            }\n",
    "        )\n",
    "\n",
    "        mask_url = test_lulc_combined.getDownloadURL(\n",
    "            {\n",
    "                \"region\": region,\n",
    "                \"dimensions\": mask_params[\"dimensions\"],\n",
    "                \"format\": mask_params[\"format\"],\n",
    "            }\n",
    "        )\n",
    "\n",
    "    if img_params[\"format\"] == \"GEO_TIFF\":\n",
    "        ext = \"tif\"\n",
    "    else:\n",
    "        ext = img_params[\"format\"]\n",
    "\n",
    "    r_img = requests.get(img_url, stream=True)\n",
    "    if r_img.status_code != 200:\n",
    "        r_img.raise_for_status()\n",
    "\n",
    "    r_mask = requests.get(mask_url, stream=True)\n",
    "    if r_mask.status_code != 200:\n",
    "        r_mask.raise_for_status()\n",
    "\n",
    "    img_out_dir = os.path.abspath(img_params[\"out_dir\"])\n",
    "    mask_out_dir = os.path.abspath(mask_params[\"out_dir\"])\n",
    "    basename = str(index).zfill(len(str(img_params[\"count\"])))\n",
    "    img_filename = f\"{img_out_dir}/{basename}_{landcover}.{ext}\"\n",
    "    mask_filename = f\"{mask_out_dir}/{basename}_{landcover}.{ext}\"\n",
    "\n",
    "    with open(img_filename, \"wb\") as out_file:\n",
    "        shutil.copyfileobj(r_img.raw, out_file)\n",
    "    print(\"Done (Image): \", basename)\n",
    "\n",
    "    with open(mask_filename, \"wb\") as out_file:\n",
    "        shutil.copyfileobj(r_mask.raw, out_file)\n",
    "    print(\"Done (Mask): \", basename)"
   ]
  },
  {
   "cell_type": "code",
   "execution_count": null,
   "metadata": {},
   "outputs": [
    {
     "data": {
      "text/html": [
       "\n",
       "            <style>\n",
       "                .geemap-dark {\n",
       "                    --jp-widgets-color: white;\n",
       "                    --jp-widgets-label-color: white;\n",
       "                    --jp-ui-font-color1: white;\n",
       "                    --jp-layout-color2: #454545;\n",
       "                    background-color: #383838;\n",
       "                }\n",
       "\n",
       "                .geemap-dark .jupyter-button {\n",
       "                    --jp-layout-color3: #383838;\n",
       "                }\n",
       "\n",
       "                .geemap-colab {\n",
       "                    background-color: var(--colab-primary-surface-color, white);\n",
       "                }\n",
       "\n",
       "                .geemap-colab .jupyter-button {\n",
       "                    --jp-layout-color3: var(--colab-primary-surface-color, white);\n",
       "                }\n",
       "            </style>\n",
       "            "
      ],
      "text/plain": [
       "<IPython.core.display.HTML object>"
      ]
     },
     "metadata": {},
     "output_type": "display_data"
    }
   ],
   "source": [
    "%%time\n",
    "logging.basicConfig()\n",
    "items = [list(i.values()) for i in test_gdf_json]\n",
    "\n",
    "pool = multiprocessing.Pool(img_params[\"processes\"])\n",
    "pool.starmap(getResult, items)\n",
    "\n",
    "pool.close()"
   ]
  },
  {
   "cell_type": "code",
   "execution_count": 103,
   "metadata": {},
   "outputs": [
    {
     "data": {
      "text/html": [
       "\n",
       "            <style>\n",
       "                .geemap-dark {\n",
       "                    --jp-widgets-color: white;\n",
       "                    --jp-widgets-label-color: white;\n",
       "                    --jp-ui-font-color1: white;\n",
       "                    --jp-layout-color2: #454545;\n",
       "                    background-color: #383838;\n",
       "                }\n",
       "\n",
       "                .geemap-dark .jupyter-button {\n",
       "                    --jp-layout-color3: #383838;\n",
       "                }\n",
       "\n",
       "                .geemap-colab {\n",
       "                    background-color: var(--colab-primary-surface-color, white);\n",
       "                }\n",
       "\n",
       "                .geemap-colab .jupyter-button {\n",
       "                    --jp-layout-color3: var(--colab-primary-surface-color, white);\n",
       "                }\n",
       "            </style>\n",
       "            "
      ],
      "text/plain": [
       "<IPython.core.display.HTML object>"
      ]
     },
     "metadata": {},
     "output_type": "display_data"
    }
   ],
   "source": [
    "for path in country_samples_path[:5]:\n",
    "    country = path.split(\"\\\\\")[-1].split(\"_\")[0]\n",
    "\n",
    "    region = europe.filter(ee.Filter.eq('name', country)).geometry()\n",
    "\n",
    "    sentinel_composite = prepareSentinelComposite(\n",
    "        region=region, \n",
    "        s1_band_names=s1_band_names, \n",
    "        s2_band_names=s2_band_names,\n",
    "        start_date=start_date,\n",
    "        end_date=end_date\n",
    "    )\n",
    "\n",
    "    lulc_combined = prepareLULCSource(\n",
    "        region=region,\n",
    "        year=year,\n",
    "        start_date=start_date,\n",
    "        end_date=end_date\n",
    "    )\n",
    "\n",
    "    output_dir = os.path.join(r\"D:\\GITHUB\\landscape-classification\\datasets\\rasters\", country)\n",
    "    if os.path.exists(output_dir)==False:\n",
    "        os.makedirs(output_dir)\n",
    "\n",
    "    # Read the geodataframe\n",
    "    country_gdf = gpd.read_file(path)\n",
    "\n",
    "    # Convert the geodataframe into a json object\n",
    "    country_json = json.loads(country_gdf.to_json())['features']\n",
    "\n",
    "    # Set Parameters\n",
    "    img_params = {\n",
    "        \"count\": len(country_gdf),\n",
    "        \"buffer\": 1270,\n",
    "        \"dimensions\": \"256x256\",  # The dimension of each image chip\n",
    "        \"format\": \"GEO_TIFF\",  # The output image format, can be png, jpg, ZIPPED_GEO_TIFF, GEO_TIFF, NPY\n",
    "        \"processes\": 30,  # How many processes to used for parallel processing\n",
    "        \"out_dir\": output_dir   #  Output directory. Default to the current working directly\n",
    "    }\n",
    "\n",
    "    # Function for Downloading Image\n",
    "    @retry(tries=10, delay=1, backoff=2)\n",
    "    def getResult(id, type, props, geom):\n",
    "\n",
    "        index = id\n",
    "        landcover = props[\"landcover\"]\n",
    "        coords = ee.Geometry.Point(geom[\"coordinates\"])\n",
    "\n",
    "        region = coords.buffer(img_params['buffer']).bounds()\n",
    "\n",
    "        if format in [\"png\", \"jpg\"]:\n",
    "            img_url = sentinel_composite.getThumbURL(\n",
    "                {\n",
    "                    \"region\": region,\n",
    "                    \"dimensions\": dimensions,\n",
    "                    \"format\": format,\n",
    "                }\n",
    "            )\n",
    "\n",
    "            mask_url = lulc_combined.getThumbURL(\n",
    "                {\n",
    "                    \"region\": region,\n",
    "                    \"dimensions\": dimensions,\n",
    "                    \"format\": format,\n",
    "                }\n",
    "            )\n",
    "\n",
    "        else:\n",
    "            img_url = sentinel_composite.getDownloadURL(\n",
    "                {\n",
    "                    \"region\": region,\n",
    "                    \"dimensions\": img_params['dimensions'],\n",
    "                    \"format\": format,\n",
    "                }\n",
    "            )\n",
    "\n",
    "            mask_url = lulc_combined.getDownloadURL(\n",
    "                {\n",
    "                    \"region\": region,\n",
    "                    \"dimensions\": img_params['dimensions'],\n",
    "                    \"format\": format,\n",
    "                }\n",
    "            )\n",
    "\n",
    "        if format == \"GEO_TIFF\":\n",
    "            ext = \"tif\"\n",
    "        else:\n",
    "            ext = format\n",
    "\n",
    "        r_img = requests.get(img_url, stream=True)\n",
    "        if r_img.status_code != 200:\n",
    "            r_img.raise_for_status()\n",
    "\n",
    "        r_mask = requests.get(mask_url, stream=True)\n",
    "        if r_mask.status_code != 200:\n",
    "            r_mask.raise_for_status()\n",
    "\n",
    "        img_out_dir = os.path.join(output_dir, 'Images')\n",
    "        mask_out_dir = os.path.join(output_dir, 'Masks')\n",
    "\n",
    "        if os.path.exists(img_out_dir)==False:\n",
    "            os.makedirs(img_out_dir)\n",
    "        if os.path.exists(mask_out_dir)==False:\n",
    "            os.makedirs(mask_out_dir)\n",
    "\n",
    "        basename = str(index).zfill(len(str(img_params['count'])))\n",
    "        img_filename = f\"Image_{landcover}_{basename}.{ext}\"\n",
    "        mask_filename = f\"Mask_{landcover}_{basename}.{ext}\"\n",
    "\n",
    "        with open(os.path.join(img_out_dir, img_filename), \"wb\") as out_file:\n",
    "            shutil.copyfileobj(r_img.raw, out_file)\n",
    "        print(\"Done (Image): \", basename)\n",
    "\n",
    "        with open(os.path.join(mask_out_dir, mask_filename), \"wb\") as out_file:\n",
    "            shutil.copyfileobj(r_mask.raw, out_file)\n",
    "        print(\"Done (Mask): \", basename)\n",
    "\n",
    "    logging.basicConfig()\n",
    "    items = [list(i.values()) for i in country_json]\n",
    "\n",
    "    pool = multiprocessing.Pool(img_params[\"processes\"])\n",
    "    pool.starmap(getResult, items)\n",
    "\n",
    "    pool.close()"
   ]
  }
 ],
 "metadata": {
  "kernelspec": {
   "display_name": "py310",
   "language": "python",
   "name": "python3"
  },
  "language_info": {
   "codemirror_mode": {
    "name": "ipython",
    "version": 3
   },
   "file_extension": ".py",
   "mimetype": "text/x-python",
   "name": "python",
   "nbconvert_exporter": "python",
   "pygments_lexer": "ipython3",
   "version": "3.10.16"
  }
 },
 "nbformat": 4,
 "nbformat_minor": 2
}
